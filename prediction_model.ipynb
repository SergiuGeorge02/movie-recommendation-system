{
 "cells": [
  {
   "cell_type": "code",
   "execution_count": null,
   "id": "cad65bfe-9338-417b-bddf-d81a240676d6",
   "metadata": {
    "is_executing": true
   },
   "outputs": [],
   "source": [
    "import pandas as pd\n",
    "from sklearn.feature_extraction.text import TfidfVectorizer\n",
    "from sklearn.metrics.pairwise import cosine_similarity\n"
   ]
  },
  {
   "cell_type": "code",
   "execution_count": null,
   "id": "913fbde9-14e6-4720-8e4b-a30b4bc215fd",
   "metadata": {},
   "outputs": [
    {
     "data": {
      "text/html": [
       "<div>\n",
       "<style scoped>\n",
       "    .dataframe tbody tr th:only-of-type {\n",
       "        vertical-align: middle;\n",
       "    }\n",
       "\n",
       "    .dataframe tbody tr th {\n",
       "        vertical-align: top;\n",
       "    }\n",
       "\n",
       "    .dataframe thead th {\n",
       "        text-align: right;\n",
       "    }\n",
       "</style>\n",
       "<table border=\"1\" class=\"dataframe\">\n",
       "  <thead>\n",
       "    <tr style=\"text-align: right;\">\n",
       "      <th></th>\n",
       "      <th>name</th>\n",
       "      <th>genres</th>\n",
       "      <th>summary</th>\n",
       "      <th>rating_value</th>\n",
       "      <th>release_year</th>\n",
       "      <th>content</th>\n",
       "    </tr>\n",
       "  </thead>\n",
       "  <tbody>\n",
       "    <tr>\n",
       "      <th>0</th>\n",
       "      <td>Carol Burnett &amp; Company</td>\n",
       "      <td>Comedy</td>\n",
       "      <td>Music, songs, and comedy sketches.</td>\n",
       "      <td>NaN</td>\n",
       "      <td>1979.0</td>\n",
       "      <td>Comedy Music, songs, and comedy sketches.</td>\n",
       "    </tr>\n",
       "    <tr>\n",
       "      <th>1</th>\n",
       "      <td>Carla Cametti PD</td>\n",
       "      <td></td>\n",
       "      <td>This six-part Australian crime series is cente...</td>\n",
       "      <td>NaN</td>\n",
       "      <td>2009.0</td>\n",
       "      <td>This six-part Australian crime series is cent...</td>\n",
       "    </tr>\n",
       "    <tr>\n",
       "      <th>2</th>\n",
       "      <td>The Carol Burnett Show</td>\n",
       "      <td>Comedy, Music</td>\n",
       "      <td>CBS brought back The Carol Burnett Show for an...</td>\n",
       "      <td>NaN</td>\n",
       "      <td>1991.0</td>\n",
       "      <td>Comedy, Music CBS brought back The Carol Burne...</td>\n",
       "    </tr>\n",
       "    <tr>\n",
       "      <th>3</th>\n",
       "      <td>Carrier</td>\n",
       "      <td></td>\n",
       "      <td>A character-driven immersion in the high-stake...</td>\n",
       "      <td>NaN</td>\n",
       "      <td>2008.0</td>\n",
       "      <td>A character-driven immersion in the high-stak...</td>\n",
       "    </tr>\n",
       "    <tr>\n",
       "      <th>4</th>\n",
       "      <td>Carnival Cravings with Anthony Anderson</td>\n",
       "      <td>Food</td>\n",
       "      <td>There isn't much you can't wrap with bacon or ...</td>\n",
       "      <td>NaN</td>\n",
       "      <td>2015.0</td>\n",
       "      <td>Food There isn't much you can't wrap with baco...</td>\n",
       "    </tr>\n",
       "  </tbody>\n",
       "</table>\n",
       "</div>"
      ],
      "text/plain": [
       "                                      name         genres  \\\n",
       "0                  Carol Burnett & Company         Comedy   \n",
       "1                         Carla Cametti PD                  \n",
       "2                   The Carol Burnett Show  Comedy, Music   \n",
       "3                                  Carrier                  \n",
       "4  Carnival Cravings with Anthony Anderson           Food   \n",
       "\n",
       "                                             summary  rating_value  \\\n",
       "0                 Music, songs, and comedy sketches.           NaN   \n",
       "1  This six-part Australian crime series is cente...           NaN   \n",
       "2  CBS brought back The Carol Burnett Show for an...           NaN   \n",
       "3  A character-driven immersion in the high-stake...           NaN   \n",
       "4  There isn't much you can't wrap with bacon or ...           NaN   \n",
       "\n",
       "   release_year                                            content  \n",
       "0        1979.0          Comedy Music, songs, and comedy sketches.  \n",
       "1        2009.0   This six-part Australian crime series is cent...  \n",
       "2        1991.0  Comedy, Music CBS brought back The Carol Burne...  \n",
       "3        2008.0   A character-driven immersion in the high-stak...  \n",
       "4        2015.0  Food There isn't much you can't wrap with baco...  "
      ]
     },
     "execution_count": 62,
     "metadata": {},
     "output_type": "execute_result"
    }
   ],
   "source": [
    "df = pd.read_csv(\"C:/Users/Sergiu/Desktop/Big Data Project/dataset/dataset.csv\")\n",
    "\n",
    "df[\"genres\"] = df[\"genres\"].fillna(\"\")\n",
    "df[\"summary\"] = df[\"summary\"].fillna(\"\")\n",
    "\n",
    "if \"content\" not in df.columns:\n",
    "    df[\"content\"] = df[\"genres\"] + \" \" + df[\"summary\"]\n",
    "\n",
    "df.head()\n"
   ]
  },
  {
   "cell_type": "code",
   "execution_count": null,
   "id": "d00e995c-4cf9-4239-b6fe-32d376d4b5aa",
   "metadata": {},
   "outputs": [
    {
     "name": "stdout",
     "output_type": "stream",
     "text": [
      "🎭 Preferred genres? (comma-separated, e.g. Drama, Thriller):  History\n",
      "📅 Earliest release year? (e.g. 2010):  1999\n",
      "⭐ Minimum rating (0–10)? (e.g. 7.0):  0\n",
      "🔍 Keywords/themes you enjoy? (comma-separated, e.g. revenge, family, heist):  family\n"
     ]
    }
   ],
   "source": [
    "preferred_genres = input(\"🎭 Preferred genres? (comma-separated, e.g. Drama, Thriller): \").lower().split(\",\")\n",
    "min_year = int(input(\"📅 Earliest release year? (e.g. 2010): \"))\n",
    "min_rating = float(input(\"⭐ Minimum rating (0–10)? (e.g. 7.0): \"))\n",
    "keywords = input(\"🔍 Keywords/themes you enjoy? (comma-separated, e.g. revenge, family, heist): \").lower().split(\",\")\n"
   ]
  },
  {
   "cell_type": "code",
   "execution_count": null,
   "id": "c4a33788-ad1a-4ba4-a4cb-0a8a7fd2413a",
   "metadata": {},
   "outputs": [],
   "source": [
    "filtered_df = df.copy()\n",
    "\n",
    "# Filter by release year\n",
    "filtered_df = filtered_df[filtered_df[\"release_year\"] >= min_year]\n",
    "\n",
    "# Filter by preferred genres\n",
    "filtered_df = filtered_df[filtered_df[\"genres\"].str.lower().apply(\n",
    "    lambda g: any(genre.strip() in g for genre in preferred_genres)\n",
    ")]\n",
    "\n",
    "# Include shows that either meet the rating or don't have one\n",
    "if \"rating_value\" in filtered_df.columns:\n",
    "    filtered_df = filtered_df[\n",
    "        (filtered_df[\"rating_value\"].isna()) |\n",
    "        (filtered_df[\"rating_value\"] >= min_rating)\n",
    "    ]\n",
    "\n",
    "# Boost keyword relevance by appending them to content\n",
    "for keyword in keywords:\n",
    "    filtered_df[\"content\"] = filtered_df[\"content\"] + \" \" + keyword\n"
   ]
  },
  {
   "cell_type": "code",
   "execution_count": null,
   "id": "2fcad3f8-45bb-4afc-adaf-31617715e390",
   "metadata": {},
   "outputs": [],
   "source": [
    "# Vectorize the content column\n",
    "tfidf = TfidfVectorizer(stop_words=\"english\")\n",
    "tfidf_matrix = tfidf.fit_transform(filtered_df[\"content\"])\n",
    "\n",
    "# Compute cosine similarity\n",
    "cosine_sim = cosine_similarity(tfidf_matrix, tfidf_matrix)\n",
    "\n",
    "# Reset index and prepare title lookup\n",
    "filtered_df = filtered_df.reset_index(drop=True)\n",
    "indices = pd.Series(filtered_df.index, index=filtered_df[\"name\"].str.lower())\n"
   ]
  },
  {
   "cell_type": "code",
   "execution_count": null,
   "id": "8bc1a7bf-ca47-428b-b48d-9a8abb9acd55",
   "metadata": {},
   "outputs": [],
   "source": [
    "def recommend(show_title, num_recommendations=5):\n",
    "    show_title = show_title.lower()\n",
    "\n",
    "    if show_title not in indices:\n",
    "        return f\"❌ '{show_title}' not found in the filtered dataset.\"\n",
    "\n",
    "    idx = indices[show_title]\n",
    "    sim_scores = list(enumerate(cosine_sim[idx]))\n",
    "    sim_scores = sorted(sim_scores, key=lambda x: x[1], reverse=True)\n",
    "    sim_scores = sim_scores[1:num_recommendations + 1]\n",
    "    show_indices = [i[0] for i in sim_scores]\n",
    "\n",
    "    return filtered_df[[\"name\", \"genres\", \"rating_value\", \"summary\"]].iloc[show_indices]\n"
   ]
  },
  {
   "cell_type": "code",
   "execution_count": null,
   "id": "0308bc50-90f2-4ba7-9273-2cb4809a549d",
   "metadata": {},
   "outputs": [
    {
     "name": "stdout",
     "output_type": "stream",
     "text": [
      "🎬 Enter a TV show you like:  Nostradamus: End of Days\n"
     ]
    },
    {
     "name": "stdout",
     "output_type": "stream",
     "text": [
      "\n",
      "🎬 Ancient Impossible\n",
      "   📚 Genres: History\n",
      "   ⭐ Rating: nan\n",
      "   📝 Summary: Ancient Impossible, the H2 series, picks up where History's long running \"Ancient Discoveries\" left off. In this next generation of storytelling, Ancient Impossible reveals how many of today's technological achievements were actually developed centuries ago. Colossal monuments, impossible feats of e...\n",
      "\n",
      "\n",
      "🎬 Hunting Nazi Treasure\n",
      "   📚 Genres: History\n",
      "   ⭐ Rating: nan\n",
      "   📝 Summary: This exciting series chronicles one of the greatest heists in history and the present-day efforts to locate valuable objects and artwork stolen by the Nazis at the end of World War II and return them to their rightful owners. With hundreds of thousands of items worth billions still missing to this d...\n",
      "\n",
      "\n",
      "🎬 Curse of the Ancients with Alice Roberts\n",
      "   📚 Genres: History\n",
      "   ⭐ Rating: nan\n",
      "   📝 Summary: In this exciting five-part history series, Curse of the Ancients Professor Alice Roberts reveals how scientists are unearthing the evidence for cataclysmic events in the past and their disastrous consequences. From wars to earthquakes and floods to famines – these are the events that have helped sha...\n",
      "\n",
      "\n",
      "🎬 Abandoned: Expedition Shipwreck\n",
      "   📚 Genres: History\n",
      "   ⭐ Rating: nan\n",
      "   📝 Summary: In the Abandoned: Expedition Shipwreck, experts follow investigations around the world that reveal the most epic, infamous and notorious shipwrecks from throughout history. From wartime disasters to commercial ship collisions, this series exposes the many volatile risks at sea and how they've shaped...\n",
      "\n",
      "\n",
      "🎬 Drain the Oceans\n",
      "   📚 Genres: Mystery, History\n",
      "   ⭐ Rating: 7.9\n",
      "   📝 Summary: Maritime mysteries -- old and new -- come to life in this 10-episode series, combining scientific data and digital re-creations to reveal shipwrecks, treasures, and sunken cities on the bottom of lakes, seas, and oceans around the world. Innovative technology allows viewers to see what lies on the f...\n"
     ]
    }
   ],
   "source": [
    "user_title = input(\"🎬 Enter a TV show you like: \")\n",
    "results = recommend(user_title, num_recommendations=5)\n",
    "\n",
    "if isinstance(results, str):\n",
    "    print(results)\n",
    "else:\n",
    "    for i, row in results.iterrows():\n",
    "        print(f\"\\n🎬 {row['name']}\")\n",
    "        print(f\"   📚 Genres: {row['genres']}\")\n",
    "        print(f\"   ⭐ Rating: {row['rating_value']}\")\n",
    "        print(f\"   📝 Summary: {row['summary'][:300]}...\\n\")\n"
   ]
  }
 ],
 "metadata": {
  "kernelspec": {
   "display_name": "Python 3",
   "language": "python",
   "name": "python3"
  },
  "language_info": {
   "codemirror_mode": {
    "name": "ipython",
    "version": 3
   },
   "file_extension": ".py",
   "mimetype": "text/x-python",
   "name": "python",
   "nbconvert_exporter": "python",
   "pygments_lexer": "ipython3",
   "version": "3.11.9"
  }
 },
 "nbformat": 4,
 "nbformat_minor": 5
}
